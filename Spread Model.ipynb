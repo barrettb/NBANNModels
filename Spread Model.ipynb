{
 "cells": [
  {
   "cell_type": "code",
   "execution_count": 11,
   "id": "5dceec6b",
   "metadata": {},
   "outputs": [],
   "source": [
    "import pandas as pd\n",
    "import numpy as np \n",
    "import math\n",
    "from sklearn import linear_model\n",
    "from sklearn.model_selection import train_test_split\n",
    "from sklearn.linear_model import Lasso\n",
    "from sklearn.preprocessing import StandardScaler\n",
    "import matplotlib.pyplot as plt\n",
    "from sklearn.linear_model import Ridge\n",
    "from sklearn.datasets import make_regression\n",
    "from sklearn.model_selection import train_test_split\n",
    "from sklearn.metrics import mean_squared_error\n",
    "from sklearn.datasets import load_boston\n",
    "import pandas as pd\n",
    "import numpy as np\n",
    "import matplotlib\n",
    "import matplotlib.pyplot as plt\n",
    "import seaborn as sns\n",
    "import statsmodels.api as sm\n",
    "%matplotlib inline\n",
    "from sklearn.model_selection import train_test_split\n",
    "from sklearn.linear_model import LinearRegression\n",
    "from sklearn.feature_selection import RFE\n",
    "from sklearn.linear_model import RidgeCV, LassoCV, Ridge, Lasso\n",
    "from sklearn.feature_selection import RFECV\n"
   ]
  },
  {
   "cell_type": "markdown",
   "id": "6675f31e",
   "metadata": {},
   "source": [
    "Loading in the data and selecting which columns are in the model, here we will drop points and home/away and highly correlated variables\n",
    "\n"
   ]
  },
  {
   "cell_type": "code",
   "execution_count": 23,
   "id": "3cedc228",
   "metadata": {},
   "outputs": [
    {
     "data": {
      "text/html": [
       "<div>\n",
       "<style scoped>\n",
       "    .dataframe tbody tr th:only-of-type {\n",
       "        vertical-align: middle;\n",
       "    }\n",
       "\n",
       "    .dataframe tbody tr th {\n",
       "        vertical-align: top;\n",
       "    }\n",
       "\n",
       "    .dataframe thead th {\n",
       "        text-align: right;\n",
       "    }\n",
       "</style>\n",
       "<table border=\"1\" class=\"dataframe\">\n",
       "  <thead>\n",
       "    <tr style=\"text-align: right;\">\n",
       "      <th></th>\n",
       "      <th>Spread</th>\n",
       "      <th>Unnamed: 0</th>\n",
       "      <th>idGame</th>\n",
       "      <th>OREB_H</th>\n",
       "      <th>block_H</th>\n",
       "      <th>TO_H</th>\n",
       "      <th>heightH</th>\n",
       "      <th>weightH</th>\n",
       "      <th>ageH</th>\n",
       "      <th>OREB_A</th>\n",
       "      <th>...</th>\n",
       "      <th>year</th>\n",
       "      <th>Shooting_Advantage</th>\n",
       "      <th>Power_Ranking_A</th>\n",
       "      <th>Power_Ranking_H</th>\n",
       "      <th>dreb_H</th>\n",
       "      <th>shots_missed_H</th>\n",
       "      <th>dreb_A</th>\n",
       "      <th>shots_missed_A</th>\n",
       "      <th>Fast_Break_A</th>\n",
       "      <th>Fast_Break_H</th>\n",
       "    </tr>\n",
       "  </thead>\n",
       "  <tbody>\n",
       "    <tr>\n",
       "      <th>0</th>\n",
       "      <td>-7</td>\n",
       "      <td>0</td>\n",
       "      <td>22000002</td>\n",
       "      <td>8</td>\n",
       "      <td>2</td>\n",
       "      <td>19</td>\n",
       "      <td>79.000000</td>\n",
       "      <td>226.235294</td>\n",
       "      <td>28.470588</td>\n",
       "      <td>11</td>\n",
       "      <td>...</td>\n",
       "      <td>2021</td>\n",
       "      <td>0.991543</td>\n",
       "      <td>15</td>\n",
       "      <td>4</td>\n",
       "      <td>37</td>\n",
       "      <td>50</td>\n",
       "      <td>29</td>\n",
       "      <td>54</td>\n",
       "      <td>10.2</td>\n",
       "      <td>12.9</td>\n",
       "    </tr>\n",
       "    <tr>\n",
       "      <th>1</th>\n",
       "      <td>-4</td>\n",
       "      <td>1</td>\n",
       "      <td>22100341</td>\n",
       "      <td>13</td>\n",
       "      <td>3</td>\n",
       "      <td>12</td>\n",
       "      <td>76.941176</td>\n",
       "      <td>213.176471</td>\n",
       "      <td>29.176471</td>\n",
       "      <td>6</td>\n",
       "      <td>...</td>\n",
       "      <td>2022</td>\n",
       "      <td>0.988142</td>\n",
       "      <td>13</td>\n",
       "      <td>23</td>\n",
       "      <td>30</td>\n",
       "      <td>53</td>\n",
       "      <td>28</td>\n",
       "      <td>43</td>\n",
       "      <td>11.8</td>\n",
       "      <td>15.3</td>\n",
       "    </tr>\n",
       "    <tr>\n",
       "      <th>2</th>\n",
       "      <td>-3</td>\n",
       "      <td>2</td>\n",
       "      <td>22100904</td>\n",
       "      <td>13</td>\n",
       "      <td>7</td>\n",
       "      <td>12</td>\n",
       "      <td>76.941176</td>\n",
       "      <td>213.176471</td>\n",
       "      <td>29.176471</td>\n",
       "      <td>7</td>\n",
       "      <td>...</td>\n",
       "      <td>2022</td>\n",
       "      <td>0.848178</td>\n",
       "      <td>13</td>\n",
       "      <td>23</td>\n",
       "      <td>34</td>\n",
       "      <td>59</td>\n",
       "      <td>40</td>\n",
       "      <td>48</td>\n",
       "      <td>11.8</td>\n",
       "      <td>15.3</td>\n",
       "    </tr>\n",
       "    <tr>\n",
       "      <th>3</th>\n",
       "      <td>-6</td>\n",
       "      <td>3</td>\n",
       "      <td>22200016</td>\n",
       "      <td>8</td>\n",
       "      <td>5</td>\n",
       "      <td>10</td>\n",
       "      <td>78.312500</td>\n",
       "      <td>208.562500</td>\n",
       "      <td>25.687500</td>\n",
       "      <td>10</td>\n",
       "      <td>...</td>\n",
       "      <td>2023</td>\n",
       "      <td>0.758099</td>\n",
       "      <td>10</td>\n",
       "      <td>17</td>\n",
       "      <td>30</td>\n",
       "      <td>65</td>\n",
       "      <td>48</td>\n",
       "      <td>54</td>\n",
       "      <td>13.0</td>\n",
       "      <td>16.2</td>\n",
       "    </tr>\n",
       "    <tr>\n",
       "      <th>4</th>\n",
       "      <td>-18</td>\n",
       "      <td>4</td>\n",
       "      <td>22200719</td>\n",
       "      <td>9</td>\n",
       "      <td>4</td>\n",
       "      <td>7</td>\n",
       "      <td>78.312500</td>\n",
       "      <td>208.562500</td>\n",
       "      <td>25.687500</td>\n",
       "      <td>7</td>\n",
       "      <td>...</td>\n",
       "      <td>2023</td>\n",
       "      <td>0.728171</td>\n",
       "      <td>10</td>\n",
       "      <td>17</td>\n",
       "      <td>23</td>\n",
       "      <td>62</td>\n",
       "      <td>40</td>\n",
       "      <td>36</td>\n",
       "      <td>13.0</td>\n",
       "      <td>16.2</td>\n",
       "    </tr>\n",
       "    <tr>\n",
       "      <th>...</th>\n",
       "      <td>...</td>\n",
       "      <td>...</td>\n",
       "      <td>...</td>\n",
       "      <td>...</td>\n",
       "      <td>...</td>\n",
       "      <td>...</td>\n",
       "      <td>...</td>\n",
       "      <td>...</td>\n",
       "      <td>...</td>\n",
       "      <td>...</td>\n",
       "      <td>...</td>\n",
       "      <td>...</td>\n",
       "      <td>...</td>\n",
       "      <td>...</td>\n",
       "      <td>...</td>\n",
       "      <td>...</td>\n",
       "      <td>...</td>\n",
       "      <td>...</td>\n",
       "      <td>...</td>\n",
       "      <td>...</td>\n",
       "      <td>...</td>\n",
       "    </tr>\n",
       "    <tr>\n",
       "      <th>3449</th>\n",
       "      <td>18</td>\n",
       "      <td>3449</td>\n",
       "      <td>22000756</td>\n",
       "      <td>13</td>\n",
       "      <td>4</td>\n",
       "      <td>20</td>\n",
       "      <td>78.176471</td>\n",
       "      <td>218.235294</td>\n",
       "      <td>28.294118</td>\n",
       "      <td>7</td>\n",
       "      <td>...</td>\n",
       "      <td>2021</td>\n",
       "      <td>1.192500</td>\n",
       "      <td>4</td>\n",
       "      <td>15</td>\n",
       "      <td>37</td>\n",
       "      <td>46</td>\n",
       "      <td>29</td>\n",
       "      <td>53</td>\n",
       "      <td>13.5</td>\n",
       "      <td>10.3</td>\n",
       "    </tr>\n",
       "    <tr>\n",
       "      <th>3450</th>\n",
       "      <td>24</td>\n",
       "      <td>3450</td>\n",
       "      <td>22001002</td>\n",
       "      <td>9</td>\n",
       "      <td>5</td>\n",
       "      <td>22</td>\n",
       "      <td>78.176471</td>\n",
       "      <td>218.235294</td>\n",
       "      <td>28.294118</td>\n",
       "      <td>11</td>\n",
       "      <td>...</td>\n",
       "      <td>2021</td>\n",
       "      <td>1.403694</td>\n",
       "      <td>4</td>\n",
       "      <td>15</td>\n",
       "      <td>39</td>\n",
       "      <td>39</td>\n",
       "      <td>23</td>\n",
       "      <td>65</td>\n",
       "      <td>13.5</td>\n",
       "      <td>10.3</td>\n",
       "    </tr>\n",
       "    <tr>\n",
       "      <th>3451</th>\n",
       "      <td>1</td>\n",
       "      <td>3451</td>\n",
       "      <td>22100786</td>\n",
       "      <td>7</td>\n",
       "      <td>6</td>\n",
       "      <td>10</td>\n",
       "      <td>78.352941</td>\n",
       "      <td>212.235294</td>\n",
       "      <td>27.294118</td>\n",
       "      <td>11</td>\n",
       "      <td>...</td>\n",
       "      <td>2022</td>\n",
       "      <td>1.109442</td>\n",
       "      <td>23</td>\n",
       "      <td>13</td>\n",
       "      <td>36</td>\n",
       "      <td>48</td>\n",
       "      <td>33</td>\n",
       "      <td>55</td>\n",
       "      <td>14.4</td>\n",
       "      <td>11.7</td>\n",
       "    </tr>\n",
       "    <tr>\n",
       "      <th>3452</th>\n",
       "      <td>21</td>\n",
       "      <td>3452</td>\n",
       "      <td>22100945</td>\n",
       "      <td>13</td>\n",
       "      <td>3</td>\n",
       "      <td>12</td>\n",
       "      <td>78.352941</td>\n",
       "      <td>212.235294</td>\n",
       "      <td>27.294118</td>\n",
       "      <td>9</td>\n",
       "      <td>...</td>\n",
       "      <td>2022</td>\n",
       "      <td>1.122951</td>\n",
       "      <td>23</td>\n",
       "      <td>13</td>\n",
       "      <td>33</td>\n",
       "      <td>44</td>\n",
       "      <td>27</td>\n",
       "      <td>48</td>\n",
       "      <td>14.4</td>\n",
       "      <td>11.7</td>\n",
       "    </tr>\n",
       "    <tr>\n",
       "      <th>3453</th>\n",
       "      <td>13</td>\n",
       "      <td>3453</td>\n",
       "      <td>22200170</td>\n",
       "      <td>6</td>\n",
       "      <td>7</td>\n",
       "      <td>15</td>\n",
       "      <td>78.176471</td>\n",
       "      <td>209.647059</td>\n",
       "      <td>28.470588</td>\n",
       "      <td>8</td>\n",
       "      <td>...</td>\n",
       "      <td>2023</td>\n",
       "      <td>1.112088</td>\n",
       "      <td>17</td>\n",
       "      <td>10</td>\n",
       "      <td>35</td>\n",
       "      <td>46</td>\n",
       "      <td>35</td>\n",
       "      <td>54</td>\n",
       "      <td>16.8</td>\n",
       "      <td>12.5</td>\n",
       "    </tr>\n",
       "  </tbody>\n",
       "</table>\n",
       "<p>3454 rows × 32 columns</p>\n",
       "</div>"
      ],
      "text/plain": [
       "      Spread  Unnamed: 0    idGame  OREB_H  block_H  TO_H    heightH  \\\n",
       "0         -7           0  22000002       8        2    19  79.000000   \n",
       "1         -4           1  22100341      13        3    12  76.941176   \n",
       "2         -3           2  22100904      13        7    12  76.941176   \n",
       "3         -6           3  22200016       8        5    10  78.312500   \n",
       "4        -18           4  22200719       9        4     7  78.312500   \n",
       "...      ...         ...       ...     ...      ...   ...        ...   \n",
       "3449      18        3449  22000756      13        4    20  78.176471   \n",
       "3450      24        3450  22001002       9        5    22  78.176471   \n",
       "3451       1        3451  22100786       7        6    10  78.352941   \n",
       "3452      21        3452  22100945      13        3    12  78.352941   \n",
       "3453      13        3453  22200170       6        7    15  78.176471   \n",
       "\n",
       "         weightH       ageH  OREB_A  ...  year  Shooting_Advantage  \\\n",
       "0     226.235294  28.470588      11  ...  2021            0.991543   \n",
       "1     213.176471  29.176471       6  ...  2022            0.988142   \n",
       "2     213.176471  29.176471       7  ...  2022            0.848178   \n",
       "3     208.562500  25.687500      10  ...  2023            0.758099   \n",
       "4     208.562500  25.687500       7  ...  2023            0.728171   \n",
       "...          ...        ...     ...  ...   ...                 ...   \n",
       "3449  218.235294  28.294118       7  ...  2021            1.192500   \n",
       "3450  218.235294  28.294118      11  ...  2021            1.403694   \n",
       "3451  212.235294  27.294118      11  ...  2022            1.109442   \n",
       "3452  212.235294  27.294118       9  ...  2022            1.122951   \n",
       "3453  209.647059  28.470588       8  ...  2023            1.112088   \n",
       "\n",
       "      Power_Ranking_A  Power_Ranking_H  dreb_H  shots_missed_H  dreb_A  \\\n",
       "0                  15                4      37              50      29   \n",
       "1                  13               23      30              53      28   \n",
       "2                  13               23      34              59      40   \n",
       "3                  10               17      30              65      48   \n",
       "4                  10               17      23              62      40   \n",
       "...               ...              ...     ...             ...     ...   \n",
       "3449                4               15      37              46      29   \n",
       "3450                4               15      39              39      23   \n",
       "3451               23               13      36              48      33   \n",
       "3452               23               13      33              44      27   \n",
       "3453               17               10      35              46      35   \n",
       "\n",
       "      shots_missed_A  Fast_Break_A  Fast_Break_H  \n",
       "0                 54          10.2          12.9  \n",
       "1                 43          11.8          15.3  \n",
       "2                 48          11.8          15.3  \n",
       "3                 54          13.0          16.2  \n",
       "4                 36          13.0          16.2  \n",
       "...              ...           ...           ...  \n",
       "3449              53          13.5          10.3  \n",
       "3450              65          13.5          10.3  \n",
       "3451              55          14.4          11.7  \n",
       "3452              48          14.4          11.7  \n",
       "3453              54          16.8          12.5  \n",
       "\n",
       "[3454 rows x 32 columns]"
      ]
     },
     "execution_count": 23,
     "metadata": {},
     "output_type": "execute_result"
    }
   ],
   "source": [
    "data = pd.read_csv(r'C:\\Users\\Barre\\Downloads\\data_w_everything.csv')\n",
    "\n",
    "data.drop(['dateGame','Home', 'Away','PTS_H','PTS_A','avg_plus_minus_H','avg_plus_minus_A','FG_PCT_A','FG_PCT_H'],axis=1,inplace=True)\n",
    "all_columns = ['Spread','Unnamed: 0', 'idGame', 'OREB_H', 'block_H', 'TO_H', 'heightH', 'weightH', 'ageH', 'OREB_A', 'block_A', 'TO_A', 'heightA', 'weightA', 'ageA', 'Total', 'OREB', 'Rivalry.Score', 'TEAM_ID_H', 'FG3_PCT_H', 'TEAM_ID_A', 'FG3_PCT_A', 'year', 'Shooting_Advantage', 'Power_Ranking_A', 'Power_Ranking_H', 'dreb_H', 'shots_missed_H', 'dreb_A', 'shots_missed_A', 'Fast_Break_A', 'Fast_Break_H']\n",
    "\n",
    "data = data[all_columns]\n",
    "data\n"
   ]
  },
  {
   "cell_type": "code",
   "execution_count": 24,
   "id": "ba3ec21f",
   "metadata": {},
   "outputs": [
    {
     "data": {
      "text/plain": [
       "<Figure size 864x720 with 0 Axes>"
      ]
     },
     "metadata": {},
     "output_type": "display_data"
    }
   ],
   "source": [
    "plt.figure(figsize=(12,10))\n",
    "cor = data.corr()\n",
    "#sns.heatmap(cor, annot=True, cmap=plt.cm.Reds)\n"
   ]
  },
  {
   "cell_type": "code",
   "execution_count": 25,
   "id": "09a98d3c",
   "metadata": {},
   "outputs": [
    {
     "data": {
      "text/plain": [
       "Spread                1.000000\n",
       "Shooting_Advantage    0.781368\n",
       "Name: Spread, dtype: float64"
      ]
     },
     "execution_count": 25,
     "metadata": {},
     "output_type": "execute_result"
    }
   ],
   "source": [
    "cor_target = abs(cor[\"Spread\"])\n",
    "#Selecting highly correlated features\n",
    "relevant_features = cor_target[cor_target>0.5]\n",
    "relevant_features\n"
   ]
  },
  {
   "cell_type": "markdown",
   "id": "c5610be9",
   "metadata": {},
   "source": [
    "Here we use a scaler to regularize and isolate the spread variable as our explanatory"
   ]
  },
  {
   "cell_type": "code",
   "execution_count": 26,
   "id": "b28b3c8a",
   "metadata": {},
   "outputs": [],
   "source": [
    "X = data.iloc[:, 1:]  \n",
    "y = data['Spread']    \n",
    "\n",
    "scaler = StandardScaler()\n",
    "\n"
   ]
  },
  {
   "cell_type": "markdown",
   "id": "2ee8fcf2",
   "metadata": {},
   "source": [
    "Here we do the test and training splits"
   ]
  },
  {
   "cell_type": "code",
   "execution_count": 27,
   "id": "f7d1e8a5",
   "metadata": {},
   "outputs": [],
   "source": [
    "x_train,x_test,y_train,y_test = train_test_split(X,y, test_size = .3,random_state=1)\n",
    "\n",
    "scaler.fit(x_train)\n",
    "X_train_scaled = scaler.transform(x_train)\n",
    "X_test_scaled = scaler.transform(x_test)"
   ]
  },
  {
   "cell_type": "markdown",
   "id": "9e006df5",
   "metadata": {},
   "source": [
    "creating our lasso regression"
   ]
  },
  {
   "cell_type": "code",
   "execution_count": 28,
   "id": "517f08bc",
   "metadata": {},
   "outputs": [
    {
     "name": "stdout",
     "output_type": "stream",
     "text": [
      "Best alpha using built-in LassoCV: 0.026526\n",
      "Best score using built-in LassoCV: -872605333862032.625000\n",
      "Lasso picked 27 variables and eliminated the other 4 variables\n"
     ]
    },
    {
     "data": {
      "text/plain": [
       "Unnamed: 0            0.104295\n",
       "idGame                0.075904\n",
       "OREB_H                2.874598\n",
       "block_H               0.000000\n",
       "TO_H                 -5.239056\n",
       "heightH               0.000000\n",
       "weightH               0.162094\n",
       "ageH                  0.471477\n",
       "OREB_A               -2.835832\n",
       "block_A              -0.278804\n",
       "TO_A                  5.303803\n",
       "heightA              -0.000000\n",
       "weightA              -0.198443\n",
       "ageA                 -0.341504\n",
       "Total                 0.006477\n",
       "OREB                  0.000000\n",
       "Rivalry.Score         0.002175\n",
       "TEAM_ID_H            -0.124025\n",
       "FG3_PCT_H             3.147735\n",
       "TEAM_ID_A            -0.146504\n",
       "FG3_PCT_A            -2.971699\n",
       "year                  0.005382\n",
       "Shooting_Advantage    5.689273\n",
       "Power_Ranking_A       0.257853\n",
       "Power_Ranking_H      -0.108279\n",
       "dreb_H                3.431846\n",
       "shots_missed_H       -2.144190\n",
       "dreb_A               -3.386276\n",
       "shots_missed_A        1.947425\n",
       "Fast_Break_A          0.207483\n",
       "Fast_Break_H          0.134621\n",
       "dtype: float64"
      ]
     },
     "execution_count": 28,
     "metadata": {},
     "output_type": "execute_result"
    }
   ],
   "source": [
    "reg = LassoCV()\n",
    "\n",
    "\n",
    "\n",
    "reg.fit(X_train_scaled,y_train)\n",
    "y_pred = reg.predict(X_test_scaled)\n",
    "print(\"Best alpha using built-in LassoCV: %f\" % reg.alpha_)\n",
    "print(\"Best score using built-in LassoCV: %f\" %reg.score(X,y))\n",
    "coef = pd.Series(reg.coef_, index = X.columns)\n",
    "print(\"Lasso picked \" + str(sum(coef != 0)) + \" variables and eliminated the other \" +  str(sum(coef == 0)) + \" variables\")\n",
    "coef"
   ]
  },
  {
   "cell_type": "code",
   "execution_count": 29,
   "id": "347d7b98",
   "metadata": {},
   "outputs": [
    {
     "data": {
      "text/plain": [
       "0.8903988814293256"
      ]
     },
     "execution_count": 29,
     "metadata": {},
     "output_type": "execute_result"
    }
   ],
   "source": [
    "from sklearn.metrics import mean_squared_error\n",
    "mean_squared_error(y_test,y_pred)\n",
    "from sklearn.metrics import r2_score\n",
    "r2_score(y_test,y_pred)"
   ]
  },
  {
   "cell_type": "code",
   "execution_count": 30,
   "id": "eb7f43eb",
   "metadata": {},
   "outputs": [
    {
     "data": {
      "text/plain": [
       "0.01705523207269022"
      ]
     },
     "execution_count": 30,
     "metadata": {},
     "output_type": "execute_result"
    }
   ],
   "source": [
    "reg.fit(X,y)\n",
    "reg.score(X,y)"
   ]
  },
  {
   "cell_type": "code",
   "execution_count": 31,
   "id": "01dd70be",
   "metadata": {},
   "outputs": [
    {
     "name": "stdout",
     "output_type": "stream",
     "text": [
      "Mean squared error: 23.57709122229315\n"
     ]
    }
   ],
   "source": [
    "mse = mean_squared_error(y_test, y_pred)\n",
    "print(\"Mean squared error:\", mse)"
   ]
  },
  {
   "cell_type": "code",
   "execution_count": 32,
   "id": "4f637369",
   "metadata": {},
   "outputs": [
    {
     "data": {
      "image/png": "[encoded data removed]",
      "text/plain": [
       "<Figure size 432x288 with 1 Axes>"
      ]
     },
     "metadata": {
      "needs_background": "light"
     },
     "output_type": "display_data"
    }
   ],
   "source": [
    "plt.scatter(y_test, y_pred)\n",
    "plt.xlabel('Actual Values')\n",
    "plt.ylabel('Predicted Values')\n",
    "plt.title('Lasso Regression')\n",
    "plt.show()"
   ]
  },
  {
   "cell_type": "code",
   "execution_count": 36,
   "id": "3772e03c",
   "metadata": {},
   "outputs": [],
   "source": [
    "ridge=Ridge(alpha=1)"
   ]
  },
  {
   "cell_type": "code",
   "execution_count": 37,
   "id": "dc3f5f8e",
   "metadata": {},
   "outputs": [
    {
     "name": "stdout",
     "output_type": "stream",
     "text": [
      "Mean Squared Error: 23.86\n"
     ]
    }
   ],
   "source": [
    "ridge.fit(x_train, y_train)\n",
    "\n",
    "# make predictions on the testing data\n",
    "y_pred = ridge.predict(x_test)\n",
    "\n",
    "# evaluate the model using the mean squared error metric\n",
    "mse = mean_squared_error(y_test, y_pred)\n",
    "print(\"Mean Squared Error: {:.2f}\".format(mse))"
   ]
  },
  {
   "cell_type": "code",
   "execution_count": 38,
   "id": "d1b24d72",
   "metadata": {},
   "outputs": [
    {
     "data": {
      "image/png": "[encoded data removed]",
      "text/plain": [
       "<Figure size 432x288 with 1 Axes>"
      ]
     },
     "metadata": {
      "needs_background": "light"
     },
     "output_type": "display_data"
    },
    {
     "data": {
      "text/plain": [
       "0.8891040381041118"
      ]
     },
     "execution_count": 38,
     "metadata": {},
     "output_type": "execute_result"
    }
   ],
   "source": [
    "plt.scatter(y_test, y_pred)\n",
    "plt.xlabel('Actual Values')\n",
    "plt.ylabel('Predicted Values')\n",
    "plt.title('Ridge Regression')\n",
    "plt.show()\n",
    "r2_score(y_test,y_pred)"
   ]
  },
  {
   "cell_type": "code",
   "execution_count": null,
   "id": "3543fc01",
   "metadata": {},
   "outputs": [],
   "source": []
  },
  {
   "cell_type": "code",
   "execution_count": null,
   "id": "abce8733",
   "metadata": {},
   "outputs": [],
   "source": [
    "plt.figure(figsize=(12,10))\n",
    "cor = data.corr()\n",
    "sns.heatmap(cor, annot=True, cmap=plt.cm.Reds)\n",
    "plt.show()"
   ]
  },
  {
   "cell_type": "code",
   "execution_count": null,
   "id": "2cbb4f22",
   "metadata": {},
   "outputs": [],
   "source": [
    "cor_target = abs(cor[\"Spread\"])\n",
    "#Selecting highly correlated features\n",
    "relevant_features = cor_target[cor_target>0.5]\n",
    "relevant_features\n"
   ]
  },
  {
   "cell_type": "code",
   "execution_count": null,
   "id": "45101571",
   "metadata": {},
   "outputs": [],
   "source": [
    "data.columns"
   ]
  },
  {
   "cell_type": "code",
   "execution_count": null,
   "id": "628c8d15",
   "metadata": {},
   "outputs": [],
   "source": []
  }
 ],
 "metadata": {
  "kernelspec": {
   "display_name": "Python 3 (ipykernel)",
   "language": "python",
   "name": "python3"
  },
  "language_info": {
   "codemirror_mode": {
    "name": "ipython",
    "version": 3
   },
   "file_extension": ".py",
   "mimetype": "text/x-python",
   "name": "python",
   "nbconvert_exporter": "python",
   "pygments_lexer": "ipython3",
   "version": "3.9.13"
  }
 },
 "nbformat": 4,
 "nbformat_minor": 5
}
